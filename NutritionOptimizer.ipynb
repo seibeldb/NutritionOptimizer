{
  "nbformat": 4,
  "nbformat_minor": 0,
  "metadata": {
    "colab": {
      "name": "NutritionOptimizer.ipynb",
      "provenance": [],
      "authorship_tag": "ABX9TyNgkV3N3IE8Or6qMN6PtVf8",
      "include_colab_link": true
    },
    "kernelspec": {
      "name": "python3",
      "display_name": "Python 3"
    }
  },
  "cells": [
    {
      "cell_type": "markdown",
      "metadata": {
        "id": "view-in-github",
        "colab_type": "text"
      },
      "source": [
        "<a href=\"https://colab.research.google.com/github/seibeldb/NutritionOptimizer/blob/master/NutritionOptimizer.ipynb\" target=\"_parent\"><img src=\"https://colab.research.google.com/assets/colab-badge.svg\" alt=\"Open In Colab\"/></a>"
      ]
    },
    {
      "cell_type": "code",
      "metadata": {
        "id": "L5Kmx7evWqmV",
        "colab_type": "code",
        "colab": {}
      },
      "source": [
        "import numpy as np\n",
        "from bokeh.plotting import figure, show"
      ],
      "execution_count": 0,
      "outputs": []
    }
  ]
}